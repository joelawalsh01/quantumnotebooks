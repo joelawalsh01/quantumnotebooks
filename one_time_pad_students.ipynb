{
 "cells": [
  {
   "cell_type": "markdown",
   "metadata": {},
   "source": [
    "# One Time Pad: New functions\n",
    "\n",
    "Here are the new functions. You can run the main program once you have pasted the necessary functions from the Symmetric Key Encryption activity. From there, use the sanity checks to help you finish the new functions. If you're feeling super hackerperson, create a module out of those functions and import them with an import statement"
   ]
  },
  {
   "cell_type": "code",
   "execution_count": 2,
   "metadata": {},
   "outputs": [],
   "source": [
    "# You don't have to do anything to this\n",
    "\n",
    "\n",
    "import random\n",
    "\n",
    "# creates a secret key that is long enough (desired length) to encode 8 bits per 1 character. \n",
    "\n",
    "def secret_key_generator(desired_length):\n",
    "    \n",
    "    key = ''  \n",
    "    \n",
    "    #This is called a nested loop, where loops are inside of each other\n",
    "    \n",
    "    # The outer loop repeats the inner process as many times as there are characters you need\n",
    "    # to encrypt\n",
    "    \n",
    "    for i in range(desired_length):\n",
    "        \n",
    "        #The inner loop makes a string of randomly chosen 0's or 1's that is 8 bits long \n",
    "        # with a space at the end\n",
    "        \n",
    "        for j in range(8):\n",
    "            key+= str(random.randint(0,1)) \n",
    "    \n",
    "        key+= \" \"\n",
    "    return key\n",
    "    \n",
    "    "
   ]
  },
  {
   "cell_type": "code",
   "execution_count": 3,
   "metadata": {},
   "outputs": [],
   "source": [
    "# See how it works. Let's say I want to decrypt the word \" bart\". \n",
    "#Call the function here with an argument that will give you enough key\n",
    "\n"
   ]
  },
  {
   "cell_type": "code",
   "execution_count": 4,
   "metadata": {},
   "outputs": [],
   "source": [
    "def one_time_encrypt(original_binary_message, key):\n",
    "    \n",
    "    if(len(original_binary_message)< len(key)):\n",
    "        \n",
    "        difference = len(original_binary_message) - len(key)\n",
    "        \n",
    "        #print( \"Key is longer than message, don't need \" + str(abs(difference)) + \" key digits \")\n",
    "        \n",
    "        key = key[0: (len(key) - difference)]  \n",
    "    \n",
    "   # print(chopped_secret_key)\n",
    "   # print(len(chopped_secret_key))\n",
    "    \n",
    "    encrypted_binary_string = ''\n",
    "    \n",
    "    #print( \"key is \" + key)\n",
    "    \n",
    "      #[ENTER CODE] use a for loop to iterate through the length of the original binary message\n",
    "\n",
    "      #[ENTER CODE] Apply mod 2 sum logic, see the video if you have a question. Be mindful of the ' ' spaces!\n",
    "      \n",
    "            \n",
    "    return  encrypted_binary_string  \n",
    "               \n",
    "    \n",
    "    \n"
   ]
  },
  {
   "cell_type": "markdown",
   "metadata": {},
   "source": [
    "# Sanity check 1"
   ]
  },
  {
   "cell_type": "code",
   "execution_count": 5,
   "metadata": {},
   "outputs": [
    {
     "data": {
      "text/plain": [
       "''"
      ]
     },
     "execution_count": 5,
     "metadata": {},
     "output_type": "execute_result"
    }
   ],
   "source": [
    "\n",
    "#Sanity Check #1 \n",
    "\n",
    "my_key = '01000011 01110001 00010010'\n",
    "my_binary_message =   '01100010 01101111 01101111'\n",
    "\n",
    "my_encrypted_binary_string = one_time_encrypt( my_binary_message, my_key)\n",
    "\n",
    "\n",
    "my_encrypted_binary_string\n",
    "\n",
    "# Should output : '00100001 00011110 01111101'"
   ]
  },
  {
   "cell_type": "markdown",
   "metadata": {},
   "source": [
    "# Eve intercepts\n",
    "\n",
    "What would it look like if Eve intercepted the encrypted binary string, and then tried to decode into decimal and back to characters? What would Eve see? This function is complete, and essentially the same as the decode function."
   ]
  },
  {
   "cell_type": "code",
   "execution_count": 22,
   "metadata": {},
   "outputs": [],
   "source": [
    "def eve_attempt(encrypted_binary_string):\n",
    "    \n",
    "    gibberish_end_string = '' # create and empty string\n",
    "    \n",
    "    for i in range (0,len(encrypted_binary_string), 9): \n",
    "        \n",
    "       my_binary = encrypted_binary_string[i : i+9]\n",
    "       \n",
    "       #print(\"my_binary is \" + my_binary)\n",
    "    \n",
    "       my_int = int(my_binary,2)\n",
    "        \n",
    "       #print( \"my_int is \" + str(my_int)) \n",
    "        \n",
    "       my_character = chr(my_int) \n",
    "        \n",
    "       #print(\"my_character is \" + my_character)\n",
    "    \n",
    "    \n",
    "       # [ENTER CODE] append the decoded character my_character to end_string\n",
    "       gibberish_end_string += my_character\n",
    "        \n",
    "       \n",
    "       # Remember that you can't use the append function here. Why? What\n",
    "        # alternative method can you use?\n",
    "    print(\"Eve intercepts encrypted string, sees this : \" + gibberish_end_string)    \n",
    "    return gibberish_end_string \n",
    "\n"
   ]
  },
  {
   "cell_type": "code",
   "execution_count": 6,
   "metadata": {},
   "outputs": [],
   "source": [
    "def apply_key( encrypted_binary_string, key):\n",
    "    \n",
    "    unencrypted_binary_string = ''\n",
    "        \n",
    "    print( \"encrypted_binary_string \" + encrypted_binary_string)\n",
    "    print(\"key is \" + key)\n",
    "    \n",
    " \n",
    "        #[ENTER CODE] use a for loop to iterate through the length of the encrypted binary message\n",
    "\n",
    "    \n",
    "        # [ENTER CODE] Apply mod 2 sum logic, see the video if you have a question. Be mindful of the ' ' spaces!\n",
    "\n",
    "\n",
    "      \n",
    "    \n",
    "    return  unencrypted_binary_string  \n",
    "\n",
    "\n",
    "\n",
    "\n",
    "\n",
    "\n"
   ]
  },
  {
   "cell_type": "code",
   "execution_count": 7,
   "metadata": {},
   "outputs": [
    {
     "name": "stdout",
     "output_type": "stream",
     "text": [
      "encrypted_binary_string 00100001 00011110 01111101\n",
      "key is 01000011 01110001 00010010\n"
     ]
    },
    {
     "data": {
      "text/plain": [
       "''"
      ]
     },
     "execution_count": 7,
     "metadata": {},
     "output_type": "execute_result"
    }
   ],
   "source": [
    "#Sanity Check 2\n",
    "my_key = '01000011 01110001 00010010'\n",
    "my_encrypted_binary_string =   '00100001 00011110 01111101'\n",
    "\n",
    "my_unencrypted_binary_string = apply_key(my_encrypted_binary_string, my_key)\n",
    "my_unencrypted_binary_string\n",
    "\n",
    "\n",
    "# Should output: '01100010 01101111 01101111'\n"
   ]
  },
  {
   "cell_type": "markdown",
   "metadata": {},
   "source": [
    "# Main program\n",
    "This bit is called the main() part.\n",
    "It allows the python file to run by itself. You can dowload this file as .py and run it on your command line if you are on a laptop or desktop once this is included in the code."
   ]
  },
  {
   "cell_type": "code",
   "execution_count": null,
   "metadata": {},
   "outputs": [],
   "source": [
    "\n",
    "\n",
    "\n",
    "def main():\n",
    "    s = input(\"Input a sentence for encryption\")\n",
    "    encoded_message = encode_to_decimal(s)\n",
    "    my_binary_string = decimal_to_binary_string(encoded_message)\n",
    "    \n",
    "    #generate key\n",
    "    \n",
    "    my_key = secret_key_generator( len(encoded_message))\n",
    "    \n",
    "    my_encrypted_binary_string = one_time_encrypt(my_binary_string, my_key)\n",
    "\n",
    "    my_unencrypted_binary_string = apply_key( my_encrypted_binary_string, my_key )\n",
    "    \n",
    "    \n",
    "    \n",
    "    decode(my_unencrypted_binary_string )\n",
    "    \n",
    "    \n",
    "    \n",
    "if __name__ == \"__main__\":\n",
    "    main()"
   ]
  },
  {
   "cell_type": "code",
   "execution_count": null,
   "metadata": {},
   "outputs": [],
   "source": []
  }
 ],
 "metadata": {
  "kernelspec": {
   "display_name": "Python 3",
   "language": "python",
   "name": "python3"
  },
  "language_info": {
   "codemirror_mode": {
    "name": "ipython",
    "version": 3
   },
   "file_extension": ".py",
   "mimetype": "text/x-python",
   "name": "python",
   "nbconvert_exporter": "python",
   "pygments_lexer": "ipython3",
   "version": "3.7.4"
  }
 },
 "nbformat": 4,
 "nbformat_minor": 4
}
