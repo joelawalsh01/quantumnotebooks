{
 "cells": [
  {
   "cell_type": "code",
   "execution_count": null,
   "metadata": {},
   "outputs": [],
   "source": [
    "message = input ( \" input a sentence for encryption\")\n"
   ]
  },
  {
   "cell_type": "code",
   "execution_count": null,
   "metadata": {},
   "outputs": [],
   "source": [
    "for i in message : \n",
    "    ## type code from Canvas"
   ]
  },
  {
   "cell_type": "code",
   "execution_count": null,
   "metadata": {},
   "outputs": [],
   "source": [
    "\n",
    "\n",
    "# use chr to decrypt numbers that you printed out 1 by 1"
   ]
  },
  {
   "cell_type": "code",
   "execution_count": null,
   "metadata": {},
   "outputs": [],
   "source": []
  },
  {
   "cell_type": "code",
   "execution_count": null,
   "metadata": {},
   "outputs": [],
   "source": [
    "def encode_to_decimal(sentence):\n",
    "    result = []  ## Create empty list to store results\n",
    "    \n",
    "    for i in range(  ## what is the ending point? see flowchart):\n",
    "       # append result to list. remember that you use list_name[i]\n",
    "        # to iterate through a list. Use the ord function on each list \n",
    "        #element\n",
    "    \n",
    "        #[ENTER CODE]   \n",
    "        \n",
    "     \n",
    "    return result\n",
    "\n",
    "\n",
    "\n",
    " \n",
    "    "
   ]
  },
  {
   "cell_type": "code",
   "execution_count": null,
   "metadata": {},
   "outputs": [],
   "source": [
    "def decimal_to_binary_string(number_list):\n",
    "    \n",
    "    binary_string = \" \"\n",
    "    \n",
    "    for i in range(len(number_list)):\n",
    "        \n",
    "        bin_number_whole = bin(number_list[i])\n",
    "        bin_number_chopped = bin_number_whole[2: len(bin_number_whole)]\n",
    "        \n",
    "        \n",
    "        # Take the chopped binary number and concatenate to the empty binary string\n",
    "        #that you created. Try both of the methods you've learned, only one will work\n",
    "        \n",
    "        #[ENTER CODE]   \n",
    "        \n",
    "        #print(\"binary number \" + str(i) + \" is \" + bin_number_chopped)\n",
    "        \n",
    "    #print(\"binary string is \" + binary_string)\n",
    "    return binary_string\n",
    "        \n",
    "      \n",
    "    "
   ]
  },
  {
   "cell_type": "code",
   "execution_count": null,
   "metadata": {},
   "outputs": [],
   "source": []
  },
  {
   "cell_type": "code",
   "execution_count": null,
   "metadata": {},
   "outputs": [],
   "source": [
    "#This function takes in your binary string and outputs a string with your orginal message. Uncomment the\n",
    "# print statements to run your code. You will need to do this in order to answer the questions\n",
    "\n",
    "\n",
    "\n",
    "def decode(binary_string):\n",
    "    \n",
    "    end_string = '' # create and empty string\n",
    "    \n",
    "    for i in range (1,len(binary_string), 7):\n",
    "        \n",
    "       my_binary = binary_string[i : i+7]\n",
    "       \n",
    "      # print(\"my_binary is \" + my_binary)\n",
    "    \n",
    "       my_int = int(my_binary,2)\n",
    "        \n",
    "      # print( \"my_int is \" + str(my_int)) \n",
    "        \n",
    "       my_character = chr(my_int) \n",
    "        \n",
    "     #  print(\"my_character is \" + my_character)\n",
    " \n",
    "    \n",
    "     # concatenate my_character to end_string\n",
    "    \n",
    "     #[ENTER CODE]   \n",
    "        \n",
    "       \n",
    "       # Remember that you can't use the append function here. Why? What\n",
    "        # alternative method can you use?\n",
    "    #print(end_string)    \n",
    "    return end_string  "
   ]
  },
  {
   "cell_type": "code",
   "execution_count": null,
   "metadata": {},
   "outputs": [],
   "source": [
    "\n"
   ]
  },
  {
   "cell_type": "code",
   "execution_count": null,
   "metadata": {},
   "outputs": [],
   "source": [
    "# This bit is called the main() part. It allows the python file to run \n",
    "#by itself. You can dowload this file as .py and run it on your command\n",
    "#line if you are on a laptop or desktop once this is done.\n",
    "\n",
    "\n",
    "def main():\n",
    "    s = input(\"Input a sentence for encryption\")\n",
    "    \n",
    "    encode_message = encode_to_decimal(s)\n",
    "    \n",
    "    binary_string = decimal_to_binary_string(encode_message)\n",
    "    \n",
    "    \n",
    "    decode(binary_string)\n",
    "    \n",
    "if __name__ == \"__main__\":\n",
    "    main()"
   ]
  }
 ],
 "metadata": {
  "kernelspec": {
   "display_name": "Python 3",
   "language": "python",
   "name": "python3"
  },
  "language_info": {
   "codemirror_mode": {
    "name": "ipython",
    "version": 3
   },
   "file_extension": ".py",
   "mimetype": "text/x-python",
   "name": "python",
   "nbconvert_exporter": "python",
   "pygments_lexer": "ipython3",
   "version": "3.7.4"
  }
 },
 "nbformat": 4,
 "nbformat_minor": 4
}
