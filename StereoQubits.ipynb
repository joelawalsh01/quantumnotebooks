{
 "cells": [
  {
   "cell_type": "markdown",
   "metadata": {},
   "source": [
    "# Stereo Signals as Quantum States"
   ]
  },
  {
   "cell_type": "code",
   "execution_count": null,
   "metadata": {},
   "outputs": [],
   "source": [
    "import random\n",
    "import numpy as np\n",
    "import matplotlib.pyplot as plt\n",
    "from IPython.display import Audio\n",
    "\n",
    "\n",
    "D = 2 # duration of signal (in seconds)\n",
    "f = 1000 # frequency of signal (in Hz \"Hertz\" = cycles per second)\n",
    "fs = int(100*f) # sample frequency (number of discrete samples per second)\n",
    "t = np.linspace(0, D, int(D*fs)) # array of discrete times (start, stop, number of samples)\n",
    "x = np.cos(2*np.pi*f*t) # cosine wave\n",
    "y = np.sin(2*np.pi*f*t) # sine wave\n",
    "z = 0*t # silence"
   ]
  },
  {
   "cell_type": "markdown",
   "metadata": {},
   "source": [
    "## Right Signal\n",
    "The cell below creates two sounds played in stereo.  With a set of headphones on, run the cell and play the audio clip and describe what you hear.  You should hear a 1000 Hz tone in your right ear and nothing in your left ear.  The graph below shows a single cycle (or period) of the signals, with the \"right\" signal in red and \"left\" signal in blue."
   ]
  },
  {
   "cell_type": "code",
   "execution_count": null,
   "metadata": {},
   "outputs": [],
   "source": [
    "right = np.sqrt(2)*x\n",
    "left  = z\n",
    "plt.plot(t,right,'r', t,left,'b')\n",
    "plt.axis([0,1/f,-1.5,1.5])\n",
    "plt.xlabel('Time (seconds)')\n",
    "Audio([left,right], rate=fs)"
   ]
  },
  {
   "cell_type": "markdown",
   "metadata": {},
   "source": [
    "## Left Signal\n",
    "The cell below creates a 1000 Hz tone (a sine wave) in your left ear and nothing in your left ear.  Play it and describe what you hear."
   ]
  },
  {
   "cell_type": "code",
   "execution_count": null,
   "metadata": {},
   "outputs": [],
   "source": [
    "right = z\n",
    "left  = np.sqrt(2)*y\n",
    "plt.plot(t,right,'r', t,left,'b')\n",
    "plt.axis([0,1/f,-1.5,1.5])\n",
    "plt.xlabel('Time (seconds)')\n",
    "Audio([left,right], rate=fs)"
   ]
  },
  {
   "cell_type": "markdown",
   "metadata": {},
   "source": [
    "## \"Zero\" Qubit\n",
    "The cell below creates two sounds: a cosine wave in your right ear and a sine wave in your left ear.  You may experience a sensation that the sound is coming from the right.  This is because your brain thinks that a sine wave in your right ear is just a cosine wave that arrived a little too early (so it must have come from a location to your right).  We will use this stereo signal to represent a $|0\\rangle$ qubit, which we can write as\n",
    "$$|0\\rangle = \\left[\\begin{eqnarray} \\cos(2\\pi ft) \\\\ \\sin(2\\pi ft) \\end{eqnarray}\\right]$$\n",
    "Run the audio clip and describe what you hear."
   ]
  },
  {
   "cell_type": "code",
   "execution_count": null,
   "metadata": {},
   "outputs": [],
   "source": [
    "right = x\n",
    "left  = y\n",
    "plt.plot(t,right,'r', t,left,'b')\n",
    "plt.axis([0,1/f,-1.5,1.5])\n",
    "plt.xlabel('Time (seconds)')\n",
    "Audio([left,right], rate=fs)"
   ]
  },
  {
   "cell_type": "markdown",
   "metadata": {},
   "source": [
    "## \"One\" Qubit\n",
    "The cell below creates two sounds: a cosine wave in your right ear and a minus sine wave in your left ear.  You may experience a sensation that the sound is coming from the left.  We will use this stereo signal to represent a $|1\\rangle$ qubit, which we can write as\n",
    "$$|1\\rangle = \\left[\\begin{eqnarray} \\cos(2\\pi ft) \\\\ -\\sin(2\\pi ft) \\end{eqnarray}\\right]$$\n",
    "Run the audio clip and describe what you hear."
   ]
  },
  {
   "cell_type": "code",
   "execution_count": null,
   "metadata": {},
   "outputs": [],
   "source": [
    "right = x\n",
    "left  = -y\n",
    "plt.plot(t,right,'r', t,left,'b')\n",
    "plt.axis([0,1/f,-1.5,1.5])\n",
    "plt.xlabel('Time (seconds)')\n",
    "Audio([left,right], rate=fs)"
   ]
  },
  {
   "cell_type": "markdown",
   "metadata": {},
   "source": [
    "## Distinguishing \"Zero\" and \"One\" Qubits\n",
    "Your ears have an amazing ability to localize sound.  Although the \"zero\" and \"one\" qubit signals may sound similar, most people can distinguish them quite easily.  Let's see how well you can distinguish them!  Using the cell below, you will generate a random bit, which will create either a \"zero\" qubit or a \"one\" qubit stereo signal.  Play the qubit and try to guess which one it is.  Check your answer by running the next cell.  Repeat by rerunning each cell sequentially.  Be sure to guess *before* you check your answer, or you'll ruin all the fun!"
   ]
  },
  {
   "cell_type": "code",
   "execution_count": null,
   "metadata": {},
   "outputs": [],
   "source": [
    "bit = random.randint(0,1)\n",
    "if bit==0:\n",
    "    qubit = [y,x] # play the \"zero\" qubit\n",
    "else:\n",
    "    qubit = [-y,x] # play the \"one\" qubit\n",
    "Audio(qubit, rate=fs) # play and try to guess whether it's zero or one"
   ]
  },
  {
   "cell_type": "code",
   "execution_count": null,
   "metadata": {},
   "outputs": [],
   "source": [
    "print(bit) # check your answer"
   ]
  },
  {
   "cell_type": "markdown",
   "metadata": {},
   "source": [
    "## Superposition\n",
    "Recall that a Hadamard gate on the \"zero\" qubit $|0\\rangle$ creates the \"plus\" state superposition $\\frac{|0\\rangle + |1\\rangle}{\\sqrt{2}}$.  Similarly, Hadamard gate on the \"one\" qubit $|1\\rangle$ creates the \"minus\" state superposition $\\frac{|0\\rangle - |1\\rangle}{\\sqrt{2}}$.  What do these look (and sound) like for stereo qubits?"
   ]
  },
  {
   "cell_type": "markdown",
   "metadata": {},
   "source": [
    "### Plus Qubit\n",
    "Determine the right and left signals for producing a \"plus\" qubit.  Play the signal and describe what you hear."
   ]
  },
  {
   "cell_type": "code",
   "execution_count": null,
   "metadata": {},
   "outputs": [],
   "source": [
    "# right = ??\n",
    "# left  = ??\n",
    "plt.plot(t,right,'r', t,left,'b')\n",
    "plt.axis([0,1/f,-1.5,1.5])\n",
    "plt.xlabel('Time (seconds)')\n",
    "Audio([left,right], rate=fs)"
   ]
  },
  {
   "cell_type": "markdown",
   "metadata": {},
   "source": [
    "### Minus Qubit\n",
    "Determine the right and left signals for producing a minus qubit.  Play the signal and describe what you hear."
   ]
  },
  {
   "cell_type": "code",
   "execution_count": null,
   "metadata": {},
   "outputs": [],
   "source": [
    "# right = ??\n",
    "# left  = ??\n",
    "plt.plot(t,right,'r', t,left,'b')\n",
    "plt.axis([0,1/f,-1.5,1.5])\n",
    "plt.xlabel('Time (seconds)')\n",
    "Audio([left,right], rate=fs)"
   ]
  },
  {
   "cell_type": "code",
   "execution_count": null,
   "metadata": {},
   "outputs": [],
   "source": []
  }
 ],
 "metadata": {
  "kernelspec": {
   "display_name": "Python 3",
   "language": "python",
   "name": "python3"
  },
  "language_info": {
   "codemirror_mode": {
    "name": "ipython",
    "version": 3
   },
   "file_extension": ".py",
   "mimetype": "text/x-python",
   "name": "python",
   "nbconvert_exporter": "python",
   "pygments_lexer": "ipython3",
   "version": "3.6.5"
  }
 },
 "nbformat": 4,
 "nbformat_minor": 2
}
