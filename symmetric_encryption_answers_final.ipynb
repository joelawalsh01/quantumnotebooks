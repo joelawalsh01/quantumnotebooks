{
 "cells": [
  {
   "cell_type": "code",
   "execution_count": null,
   "metadata": {},
   "outputs": [],
   "source": [
    "#uncomment the next two cells to do the first few questions\n",
    "\n",
    "\n",
    "#message = input ( \" input a sentence for encryption\")\n"
   ]
  },
  {
   "cell_type": "code",
   "execution_count": null,
   "metadata": {},
   "outputs": [],
   "source": [
    "#for i in message : \n",
    "    ## type code from Canvas"
   ]
  },
  {
   "cell_type": "code",
   "execution_count": null,
   "metadata": {},
   "outputs": [],
   "source": [
    "\n",
    "\n",
    "# use chr to decrypt numbers that you printed out 1 by 1"
   ]
  },
  {
   "cell_type": "code",
   "execution_count": null,
   "metadata": {},
   "outputs": [],
   "source": []
  },
  {
   "cell_type": "code",
   "execution_count": null,
   "metadata": {},
   "outputs": [],
   "source": [
    "def encode_to_decimal(sentence):\n",
    "    result = []  ##empty list to store results\n",
    "    \n",
    "    for i in range( len(sentence)):\n",
    "      \n",
    "    #[ENTER CODE]\n",
    "        # append result to list. remember that you use list_name[i]\n",
    "        # to iterate through a list. Use the ord function on each list \n",
    "        #element\n",
    "        \n",
    "        \n",
    "        result.append(ord(sentence[i]))\n",
    "        \n",
    "    print(\"result is\" + str(result) )\n",
    "    \n",
    "    return result\n",
    "\n",
    "\n",
    " \n",
    "    "
   ]
  },
  {
   "cell_type": "code",
   "execution_count": 91,
   "metadata": {},
   "outputs": [
    {
     "name": "stdout",
     "output_type": "stream",
     "text": [
      "result is[98, 111, 111, 32, 117]\n"
     ]
    },
    {
     "data": {
      "text/plain": [
       "[98, 111, 111, 32, 117]"
      ]
     },
     "execution_count": 91,
     "metadata": {},
     "output_type": "execute_result"
    }
   ],
   "source": [
    "\n",
    "# Sanity check 1\n",
    "\n",
    "my_message = \"boo u\"  #insert text between \n",
    "\n",
    "my_decimal_number_list = encode_to_decimal( my_message)\n",
    "\n",
    "\n",
    "\n",
    "my_decimal_number_list\n",
    "\n",
    "#You should see a list of numbers [98, 111, 111,32, 117]\n"
   ]
  },
  {
   "cell_type": "code",
   "execution_count": null,
   "metadata": {},
   "outputs": [],
   "source": [
    "\n",
    "#from Symmetric Key Encryption\n",
    "\n",
    "\n",
    "def decimal_to_binary_string(number_list):\n",
    "    \n",
    "    binary_string = \"\"\n",
    "    \n",
    "    for i in range(len(number_list)):\n",
    "        \n",
    "        bin_number_whole = bin(number_list[i])\n",
    "        \n",
    "        #chop the  \"Ob\" off of the binary conversion string output\n",
    "        \n",
    "        bin_number_chopped = bin_number_whole[2: len(bin_number_whole)]\n",
    "        \n",
    "        bin_number_chopped = \"0\" + bin_number_chopped\n",
    "        \n",
    "        \n",
    "        # To deal with the 'Space' unicode (32) we need to add a '0' at the head of the binary number to make it '00100000'\n",
    "        \n",
    "        if (bin_number_chopped == '0100000'):\n",
    "            bin_number_chopped = '0'+ bin_number_chopped\n",
    "            \n",
    "        #[ENTER CODE]   you should have a binary number in 8 bit form. now you need to append it to a string, but add a space at the tail \n",
    "        \n",
    "        binary_string += bin_number_chopped + ' '   \n",
    "        \n",
    "        print(\"binary number \" + str(i) + \" is \" + bin_number_chopped)\n",
    "        \n",
    "    print(\"binary string is \" + binary_string)\n",
    "    return binary_string\n",
    "        \n",
    "        #iterate through list of numbers, converting each number to binary and appending\n",
    "       # it to a string. You should end up with a long string of 0's and 1's\n",
    "    \n",
    "    \n",
    "    \n",
    "    "
   ]
  },
  {
   "cell_type": "code",
   "execution_count": null,
   "metadata": {},
   "outputs": [],
   "source": [
    "#Sanity Check 2 - just press play no need to alter decimal_to_binary_string()\n",
    "\n",
    "\n",
    "my_decimal_list = [98, 111, 111, 32, 117]\n",
    "\n",
    "my_binary_string = decimal_to_binary_string(my_decimal_list)\n",
    "\n",
    "my_binary_string\n",
    "\n",
    "\n",
    "# You should see : '01100010 01101111 01101111 00100000 01110101 '"
   ]
  },
  {
   "cell_type": "code",
   "execution_count": null,
   "metadata": {},
   "outputs": [],
   "source": [
    "def decode(binary_string):\n",
    "    \n",
    "    end_string = '' # create and empty string\n",
    "    \n",
    "    for i in range (0,len(binary_string), 9): \n",
    "        \n",
    "       my_binary = binary_string[i : i+9]\n",
    "       \n",
    "       print(\"my_binary is \" + my_binary)\n",
    "    \n",
    "       my_int = int(my_binary,2)\n",
    "        \n",
    "       print( \"my_int is \" + str(my_int)) \n",
    "        \n",
    "       my_character = chr(my_int) \n",
    "        \n",
    "       print(\"my_character is \" + my_character)\n",
    "    \n",
    "    \n",
    "       # [ENTER CODE] append the decoded character my_character to end_string\n",
    " \n",
    "    \n",
    "       end_string += my_character\n",
    "        \n",
    "       \n",
    "       # Remember that you can't use the append function here. Why? What\n",
    "        # alternative method can you use?\n",
    "    print(end_string)    \n",
    "    return end_string       "
   ]
  },
  {
   "cell_type": "code",
   "execution_count": null,
   "metadata": {},
   "outputs": [],
   "source": [
    "#Sanity Check 3\n",
    "\n",
    "\n",
    "my_binary_string = '01100010 01101111 01101111 00100000 01110101 '\n",
    "\n",
    "decoded_message = decode(my_binary_string)\n",
    "\n",
    "decoded_message \n",
    "\n",
    "#Should output \"boo u\""
   ]
  },
  {
   "cell_type": "code",
   "execution_count": 92,
   "metadata": {},
   "outputs": [
    {
     "name": "stdin",
     "output_type": "stream",
     "text": [
      "Input a sentence for encryption boo u\n"
     ]
    },
    {
     "name": "stdout",
     "output_type": "stream",
     "text": [
      "result is[98, 111, 111, 32, 117]\n",
      "binary number 0 is 01100010\n",
      "binary number 1 is 01101111\n",
      "binary number 2 is 01101111\n",
      "binary number 3 is 00100000\n",
      "binary number 4 is 01110101\n",
      "binary string is 01100010 01101111 01101111 00100000 01110101 \n",
      "my_binary is 01100010 \n",
      "my_int is 98\n",
      "my_character is b\n",
      "my_binary is 01101111 \n",
      "my_int is 111\n",
      "my_character is o\n",
      "my_binary is 01101111 \n",
      "my_int is 111\n",
      "my_character is o\n",
      "my_binary is 00100000 \n",
      "my_int is 32\n",
      "my_character is  \n",
      "my_binary is 01110101 \n",
      "my_int is 117\n",
      "my_character is u\n",
      "boo u\n"
     ]
    }
   ],
   "source": [
    "# This bit is called the main() part. It allows the python file to run \n",
    "#by itself. You can dowload this file as .py and run it on your command\n",
    "#line if you are on a laptop or desktop once this is done.\n",
    "\n",
    "\n",
    "def main():\n",
    "    s = input(\"Input a sentence for encryption\")\n",
    "    encoded_message = encode_to_decimal(s)\n",
    "    my_binary_string = decimal_to_binary_string(encoded_message)\n",
    "    decode(my_binary_string)\n",
    "    \n",
    "if __name__ == \"__main__\":\n",
    "    main()"
   ]
  },
  {
   "cell_type": "code",
   "execution_count": null,
   "metadata": {},
   "outputs": [],
   "source": []
  },
  {
   "cell_type": "code",
   "execution_count": null,
   "metadata": {},
   "outputs": [],
   "source": []
  }
 ],
 "metadata": {
  "kernelspec": {
   "display_name": "Python 3",
   "language": "python",
   "name": "python3"
  },
  "language_info": {
   "codemirror_mode": {
    "name": "ipython",
    "version": 3
   },
   "file_extension": ".py",
   "mimetype": "text/x-python",
   "name": "python",
   "nbconvert_exporter": "python",
   "pygments_lexer": "ipython3",
   "version": "3.7.4"
  }
 },
 "nbformat": 4,
 "nbformat_minor": 4
}
